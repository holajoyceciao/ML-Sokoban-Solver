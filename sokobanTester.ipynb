{
 "cells": [
  {
   "cell_type": "code",
   "execution_count": 1,
   "id": "ed3eb8ab-7944-4573-83e5-2d18cf808d7f",
   "metadata": {},
   "outputs": [],
   "source": [
    "import glob\n",
    "import time\n",
    "from sokoban import Warehouse"
   ]
  },
  {
   "cell_type": "markdown",
   "id": "d46f54d6-4039-42d3-92d8-ac81c63ae53a",
   "metadata": {},
   "source": [
    "## This Testing File\n",
    "\n",
    "There are two sections to this testing file:\n",
    "1. Visualise results of functions on all the warehouses, including: the prediction, the time taken to produce the prediction.\n",
    "2. Test your functions perform correctly on warehouse 1. This is similar to the tests that Gradescope will run."
   ]
  },
  {
   "cell_type": "code",
   "execution_count": 2,
   "id": "471f3512-8f94-436d-8fee-d48614b92dbb",
   "metadata": {},
   "outputs": [],
   "source": [
    "#Import the mySokobanSolver.py file to import all functions\n",
    "from mySokobanSolver import *"
   ]
  },
  {
   "cell_type": "markdown",
   "id": "bc21c506-c52c-4eb5-ab5b-7e7d8b702264",
   "metadata": {},
   "source": [
    "## Visualise results"
   ]
  },
  {
   "cell_type": "code",
   "execution_count": 3,
   "id": "1c0dbba1-8b2a-4a84-b149-18752f77d3c1",
   "metadata": {},
   "outputs": [],
   "source": [
    "def test_warehouse(problem_file, macro = False):\n",
    "    '''\n",
    "    This function will test the performance of your warehouse for either macro or elem solutions and return the result.\n",
    "    You can check if this solution works with your gui, or by cleverly using the check_action_seq function.\n",
    "    '''\n",
    "\n",
    "    wh = Warehouse()\n",
    "    wh.load_warehouse(problem_file)\n",
    "\n",
    "    if macro:\n",
    "        student_answer =  solve_sokoban_macro(wh)\n",
    "    else:\n",
    "        student_answer = solve_sokoban_elem(wh)\n",
    "        \n",
    "    return student_answer\n",
    "#.............................................................\n"
   ]
  },
  {
   "cell_type": "code",
   "execution_count": 4,
   "id": "85ae80fa-255b-47f0-a239-5b289bbda338",
   "metadata": {},
   "outputs": [
    {
     "name": "stdout",
     "output_type": "stream",
     "text": [
      "####  \n",
      "# .#  \n",
      "#  ###\n",
      "#*@  #\n",
      "#  $ #\n",
      "#  ###\n",
      "####  \n",
      "Worker: @\n",
      "Worker on a target: !\n",
      "Craft box: $\n",
      "Empty Target: .\n",
      "box on target: *\n"
     ]
    }
   ],
   "source": [
    "all_warehouses = sorted(glob.glob('warehouses/*.txt'))\n",
    "first_warehouse = Warehouse()\n",
    "first_warehouse.load_warehouse(all_warehouses[0])\n",
    "print(first_warehouse)\n",
    "print(\"Worker: @\")  # workers on a free cell\n",
    "print(\"Worker on a target: !\")\n",
    "print(\"Craft box: $\") # crate/box\n",
    "print(\"Empty Target: .\") # empty target\n",
    "print(\"box on target: *\") # box on target"
   ]
  },
  {
   "cell_type": "code",
   "execution_count": 5,
   "id": "5c887d57-8ce4-4633-9233-ac83d729ab76",
   "metadata": {},
   "outputs": [
    {
     "name": "stdout",
     "output_type": "stream",
     "text": [
      "Warehouse boxes: [(3, 4), (1, 3)]\n",
      "Warehouse target: [(2, 1), (1, 3)]\n",
      "Warehouse worker: (2, 3)\n",
      "Warehouse walls: [(0, 0), (1, 0), (2, 0), (3, 0), (0, 1), (3, 1), (0, 2), (3, 2), (4, 2), (5, 2), (0, 3), (5, 3), (0, 4), (5, 4), (0, 5), (3, 5), (4, 5), (5, 5), (0, 6), (1, 6), (2, 6), (3, 6)]\n"
     ]
    }
   ],
   "source": [
    "print(\"Warehouse boxes:\", first_warehouse.boxes )\n",
    "print(\"Warehouse target:\", first_warehouse.targets)\n",
    "print(\"Warehouse worker:\", first_warehouse.worker)\n",
    "print(\"Warehouse walls:\", first_warehouse.walls)"
   ]
  },
  {
   "cell_type": "code",
   "execution_count": 6,
   "id": "07bb9218-f784-4e38-b477-4815c77eb5d5",
   "metadata": {},
   "outputs": [
    {
     "name": "stdout",
     "output_type": "stream",
     "text": [
      "####  \n",
      "# .#  \n",
      "#  ###\n",
      "#*@  #\n",
      "#  $ #\n",
      "#  ###\n",
      "####  \n",
      "[((1, 0), 'm'), ((0, -1), 'm'), ((0, 1), 'm')]\n",
      "####  \n",
      "# .#  \n",
      "#  ###\n",
      "#* @ #\n",
      "#  $ #\n",
      "#  ###\n",
      "####  \n",
      "new_box_pos (3, 5)\n",
      "[((-1, 0), 'm'), ((1, 0), 'm')]\n",
      "####  \n",
      "# .#  \n",
      "#  ###\n",
      "#*@  #\n",
      "#  $ #\n",
      "#  ###\n",
      "####  \n"
     ]
    }
   ],
   "source": [
    "print(first_warehouse)\n",
    "solver = SokobanPuzzle(first_warehouse)\n",
    "actions = solver.actions(first_warehouse)\n",
    "print(actions)\n",
    "move_1 = solver.result(first_warehouse, actions[0])\n",
    "print(move_1)\n",
    "actions = solver.actions(move_1)\n",
    "print(actions)\n",
    "move_2 = solver.result(move_1 , actions[0])\n",
    "print(move_2)"
   ]
  },
  {
   "cell_type": "code",
   "execution_count": 9,
   "id": "c03fd7b3-142e-4bdd-bd17-43404af97253",
   "metadata": {},
   "outputs": [
    {
     "name": "stdout",
     "output_type": "stream",
     "text": [
      "[1, 1, 1, 1, 0, 0]\n",
      "[1, 0, 0, 1, 0, 0]\n",
      "[1, 0, 0, 1, 1, 1]\n",
      "[1, 1, 0, 0, 0, 1]\n",
      "[1, 0, 0, 1, 0, 1]\n",
      "[1, 0, 0, 1, 1, 1]\n",
      "[1, 1, 1, 1, 0, 0]\n"
     ]
    },
    {
     "data": {
      "text/plain": [
       "False"
      ]
     },
     "execution_count": 9,
     "metadata": {},
     "output_type": "execute_result"
    }
   ],
   "source": [
    "can_go_there(first_warehouse, tuple((0,1)))"
   ]
  },
  {
   "cell_type": "code",
   "execution_count": 76,
   "id": "d7aa574d-14cb-41d0-bc4b-50d47384aee3",
   "metadata": {},
   "outputs": [],
   "source": [
    "def dfs(matrix, source, target, visited=None):\n",
    "    '''\n",
    "    A function that search a matrix of movements, return true if the target is accessible from the origin\n",
    "    '''\n",
    "    x, y = source\n",
    "\n",
    "    print(f\"Source: {source}, Target: {target}, Equal: {source == target}\")\n",
    "    if visited is None:\n",
    "        visited = set()\n",
    "    if source == target:\n",
    "        return True\n",
    "    visited.add(source)\n",
    "    print(visited)\n",
    "    \n",
    "    rows = len(matrix)\n",
    "    cols = len(matrix[0])\n",
    "    \n",
    "    directions = [(0, 1), (1, 0), (0, -1), (-1, 0)]\n",
    "\n",
    "    for direction in directions:\n",
    "        nx, ny = x + direction[0], y + direction[1]\n",
    "        if 0<=nx <rows and 0 <= ny < cols:\n",
    "            neighbor = (nx, ny)\n",
    "            if matrix[nx][ny] == 0 and neighbor not in visited:  \n",
    "                if dfs(matrix, neighbor, target, visited): \n",
    "                    return True\n",
    "    return False\n",
    "\n",
    "\n",
    "def can_go_there(warehouse, dst):\n",
    "    '''    \n",
    "    Determine whether the worker can walk to the cell dst=(row,column) \n",
    "    without pushing any box.\n",
    "    \n",
    "    @param warehouse: a valid Warehouse object\n",
    "\n",
    "    @return\n",
    "      True if the worker can walk to cell dst=(row,column) without pushing any box\n",
    "      False otherwise\n",
    "    '''\n",
    "    ##         \"INSERT YOUR CODE HERE\"\n",
    "    y, x = warehouse.worker\n",
    "    x1, y1 = dst\n",
    "    target = tuple((x+x1, y+y1))\n",
    "    x_max = max([x for x, y in warehouse.walls])\n",
    "    x_min = min([x for x, y in warehouse.walls])\n",
    "\n",
    "    y_max = max([y for x, y in warehouse.walls])\n",
    "    y_min = min([y for x, y in warehouse.walls])\n",
    "\n",
    "    dist = tuple((x_max-x_min, y_max-y_min))\n",
    "     \n",
    "    matrix = [[0 for _ in range(dist[0] + 1)] for _ in range(dist[1] + 1)]\n",
    "\n",
    "    for wall_x, wall_y in warehouse.walls:\n",
    "        matrix[wall_y - y_min][wall_x - x_min]  = 1 \n",
    "\n",
    "    for box_x, box_y in warehouse.boxes:\n",
    "        matrix[box_y - y_min][box_x - x_min] = 1 \n",
    "    \n",
    "    \n",
    "    for row in matrix:\n",
    "        print(row)\n",
    "            \n",
    "    return dfs(matrix, tuple((x,y)), target)\n"
   ]
  },
  {
   "cell_type": "code",
   "execution_count": 80,
   "id": "76d0e77c-e930-40ff-835b-bd64439ba636",
   "metadata": {},
   "outputs": [
    {
     "name": "stdout",
     "output_type": "stream",
     "text": [
      "[1, 1, 1, 1, 0, 0]\n",
      "[1, 0, 0, 1, 0, 0]\n",
      "[1, 0, 0, 1, 1, 1]\n",
      "[1, 1, 0, 0, 0, 1]\n",
      "[1, 0, 0, 1, 0, 1]\n",
      "[1, 0, 0, 1, 1, 1]\n",
      "[1, 1, 1, 1, 0, 0]\n",
      "Source: (3, 2), Target: (4, 1), Equal: False\n",
      "{(3, 2)}\n",
      "Source: (3, 3), Target: (4, 1), Equal: False\n",
      "{(3, 2), (3, 3)}\n",
      "Source: (3, 4), Target: (4, 1), Equal: False\n",
      "{(3, 2), (3, 3), (3, 4)}\n",
      "Source: (4, 4), Target: (4, 1), Equal: False\n",
      "{(4, 4), (3, 2), (3, 3), (3, 4)}\n",
      "Source: (4, 2), Target: (4, 1), Equal: False\n",
      "{(4, 4), (3, 4), (4, 2), (3, 3), (3, 2)}\n",
      "Source: (5, 2), Target: (4, 1), Equal: False\n",
      "{(4, 4), (3, 4), (4, 2), (3, 3), (3, 2), (5, 2)}\n",
      "Source: (5, 1), Target: (4, 1), Equal: False\n",
      "{(4, 4), (3, 4), (5, 1), (4, 2), (3, 3), (3, 2), (5, 2)}\n",
      "Source: (4, 1), Target: (4, 1), Equal: True\n"
     ]
    },
    {
     "data": {
      "text/plain": [
       "True"
      ]
     },
     "execution_count": 80,
     "metadata": {},
     "output_type": "execute_result"
    }
   ],
   "source": [
    "can_go_there(first_warehouse, tuple((1,-1)))"
   ]
  },
  {
   "cell_type": "code",
   "execution_count": null,
   "id": "f74133e1-78a9-46ad-8418-e48e05cf9231",
   "metadata": {},
   "outputs": [],
   "source": [
    "search_type = 'bfs'\n",
    "\n",
    "t0 = time.time()\n",
    "if search_type == 'bfs':\n",
    "    # Solve with Breadth First Search\n",
    "    sol_ts = search.breadth_first_graph_search(solver)\n",
    "else:\n",
    "    #Solve with Depth First Search\n",
    "    sol_ts = search.depth_first_graph_search(solver)\n",
    "t1 = time.time()\n",
    "\n",
    "print (f\"Solver took {1000*(t1-t0):.2f} milli-seconds to find a solution.\")\n",
    "solver.print_solution(sol_ts)"
   ]
  },
  {
   "cell_type": "code",
   "execution_count": 4,
   "id": "d9ecd8ce-d106-4a57-9aa8-dff41f21950c",
   "metadata": {},
   "outputs": [
    {
     "name": "stdout",
     "output_type": "stream",
     "text": [
      "Testing warehouses/warehouse_0001.txt\n"
     ]
    },
    {
     "ename": "NotImplementedError",
     "evalue": "",
     "output_type": "error",
     "traceback": [
      "\u001b[0;31m---------------------------------------------------------------------------\u001b[0m",
      "\u001b[0;31mNotImplementedError\u001b[0m                       Traceback (most recent call last)",
      "Cell \u001b[0;32mIn[4], line 6\u001b[0m\n\u001b[1;32m      4\u001b[0m \u001b[38;5;28mprint\u001b[39m(\u001b[38;5;124mf\u001b[39m\u001b[38;5;124m'\u001b[39m\u001b[38;5;124mTesting \u001b[39m\u001b[38;5;132;01m{\u001b[39;00mproblem_file\u001b[38;5;132;01m}\u001b[39;00m\u001b[38;5;124m'\u001b[39m)\n\u001b[1;32m      5\u001b[0m s \u001b[38;5;241m=\u001b[39m time\u001b[38;5;241m.\u001b[39mtime()\n\u001b[0;32m----> 6\u001b[0m a \u001b[38;5;241m=\u001b[39m \u001b[43mtest_warehouse\u001b[49m\u001b[43m(\u001b[49m\u001b[43mproblem_file\u001b[49m\u001b[43m)\u001b[49m\n\u001b[1;32m      7\u001b[0m \u001b[38;5;28mprint\u001b[39m(\u001b[38;5;124mf\u001b[39m\u001b[38;5;124m'\u001b[39m\u001b[38;5;124mAnswer: \u001b[39m\u001b[38;5;132;01m{\u001b[39;00ma\u001b[38;5;132;01m}\u001b[39;00m\u001b[38;5;124m'\u001b[39m)\n\u001b[1;32m      8\u001b[0m \u001b[38;5;28mprint\u001b[39m(\u001b[38;5;124mf\u001b[39m\u001b[38;5;124m'\u001b[39m\u001b[38;5;124mTime taken: \u001b[39m\u001b[38;5;132;01m{\u001b[39;00mtime\u001b[38;5;241m.\u001b[39mtime()\u001b[38;5;241m-\u001b[39ms\u001b[38;5;250m \u001b[39m\u001b[38;5;132;01m:\u001b[39;00m\u001b[38;5;124m.3f\u001b[39m\u001b[38;5;132;01m}\u001b[39;00m\u001b[38;5;124m seconds\u001b[39m\u001b[38;5;124m'\u001b[39m)              \n",
      "Cell \u001b[0;32mIn[3], line 13\u001b[0m, in \u001b[0;36mtest_warehouse\u001b[0;34m(problem_file, macro)\u001b[0m\n\u001b[1;32m     11\u001b[0m     student_answer \u001b[38;5;241m=\u001b[39m  solve_sokoban_macro(wh)\n\u001b[1;32m     12\u001b[0m \u001b[38;5;28;01melse\u001b[39;00m:\n\u001b[0;32m---> 13\u001b[0m     student_answer \u001b[38;5;241m=\u001b[39m \u001b[43msolve_sokoban_elem\u001b[49m\u001b[43m(\u001b[49m\u001b[43mwh\u001b[49m\u001b[43m)\u001b[49m\n\u001b[1;32m     15\u001b[0m \u001b[38;5;28;01mreturn\u001b[39;00m student_answer\n",
      "File \u001b[0;32m~/IFN680/Project_2/mySokobanSolver.py:141\u001b[0m, in \u001b[0;36msolve_sokoban_elem\u001b[0;34m(warehouse)\u001b[0m\n\u001b[1;32m      0\u001b[0m <Error retrieving source code with stack_data see ipython/ipython#13598>\n",
      "\u001b[0;31mNotImplementedError\u001b[0m: "
     ]
    }
   ],
   "source": [
    "\n",
    "for problem_file in all_warehouses:\n",
    "    print(f'Testing {problem_file}')\n",
    "    s = time.time()\n",
    "    a = test_warehouse(problem_file)\n",
    "    print(f'Answer: {a}')\n",
    "    print(f'Time taken: {time.time()-s :.3f} seconds')              "
   ]
  },
  {
   "cell_type": "markdown",
   "id": "e54a1258-d0ad-46e1-8601-a4fba099f15c",
   "metadata": {},
   "source": [
    "## Test function performance on warehouse 1 (similar to gradescope tests)"
   ]
  },
  {
   "cell_type": "code",
   "execution_count": null,
   "id": "d31871ea-5266-4b78-894d-2669e5d23792",
   "metadata": {},
   "outputs": [],
   "source": [
    "'''\n",
    "\n",
    "This script tests functions in your submission 'mySokobanSolver.py'\n",
    "\n",
    "A similar script (with different inputs) will be used for marking your code.\n",
    "\n",
    "Make sure that your code runs without errors with this script.\n",
    "\n",
    "\n",
    "'''\n",
    "\n",
    "def test_taboo_cells():\n",
    "    wh = Warehouse()\n",
    "    wh.load_warehouse(\"./warehouses/warehouse_0001.txt\")\n",
    "    expected_answer = '####  \\n#X #  \\n#  ###\\n#   X#\\n#   X#\\n#XX###\\n####  '\n",
    "    answer = taboo_cells(wh)\n",
    "    fcn = test_taboo_cells    \n",
    "    print('<<  Testing {} >>'.format(fcn.__name__))\n",
    "    if answer==expected_answer:\n",
    "        print(fcn.__name__, ' passed!  :-)\\n')\n",
    "    else:\n",
    "        print(fcn.__name__, ' failed!  :-(\\n')\n",
    "        print('Expected ');print(expected_answer)\n",
    "        print('But, received ');print(answer)\n",
    "        \n",
    "\n",
    "def test_check_elem_action_seq():\n",
    "    wh = Warehouse()\n",
    "    wh.load_warehouse(\"./warehouses/warehouse_0001.txt\")\n",
    "    # first test\n",
    "    answer = check_action_seq(wh, ['Right', 'Right','Down'])\n",
    "    expected_answer = '####  \\n# .#  \\n#  ###\\n#*   #\\n#  $@#\\n#  ###\\n####  '\n",
    "    fcn = test_check_elem_action_seq    \n",
    "    print('<<  First test of {} >>'.format(fcn.__name__))\n",
    "    if answer==expected_answer:\n",
    "        print(fcn.__name__, ' passed!  :-)\\n')\n",
    "    else:\n",
    "        print(fcn.__name__, ' failed!  :-(\\n')\n",
    "        print('Expected ');print(expected_answer)\n",
    "        print('But, received ');print(answer)\n",
    "    # second test\n",
    "    answer = check_action_seq(wh, ['Right', 'Right','Right'])\n",
    "    expected_answer = 'Failure'\n",
    "    fcn = test_check_elem_action_seq    \n",
    "    print('<<  Second test of {} >>'.format(fcn.__name__))\n",
    "    if answer==expected_answer:\n",
    "        print(fcn.__name__, ' passed!  :-)\\n')\n",
    "    else:\n",
    "        print(fcn.__name__, ' failed!  :-(\\n')\n",
    "        print('Expected ');print(expected_answer)\n",
    "        print('But, received ');print(answer)\n",
    "\n",
    "def test_solve_sokoban_elem():\n",
    "    puzzle_t1 ='#######\\n#@ $. #\\n#######'\n",
    "    wh = Warehouse()    \n",
    "    wh.extract_locations(puzzle_t1.split(sep='\\n'))\n",
    "    # first test\n",
    "    answer = solve_sokoban_elem(wh)\n",
    "    expected_answer = ['Right', 'Right']\n",
    "    fcn = test_solve_sokoban_elem\n",
    "    print('<<  First test of {} >>'.format(fcn.__name__))\n",
    "    if answer==expected_answer:\n",
    "        print(fcn.__name__, ' passed!  :-)\\n')\n",
    "    else:\n",
    "        print(fcn.__name__, ' failed!  :-(\\n')\n",
    "        print('Expected ');print(expected_answer)\n",
    "        print('But, received ');print(answer)\n",
    "    # second test\n",
    "    puzzle_t2 ='#######\\n#@ $ #.#\\n#######'\n",
    "    wh = Warehouse()    \n",
    "    wh.extract_locations(puzzle_t2.split(sep='\\n'))\n",
    "    # second test\n",
    "    answer = solve_sokoban_elem(wh)\n",
    "    expected_answer = 'Impossible'\n",
    "    print('<<  Second test of {} >>'.format(fcn.__name__))\n",
    "    if answer==expected_answer:\n",
    "        print(fcn.__name__, ' passed!  :-)\\n')\n",
    "    else:\n",
    "        print(fcn.__name__, ' failed!  :-(\\n')\n",
    "        print('Expected ');print(expected_answer)\n",
    "        print('But, received ');print(answer)\n",
    "        \n",
    "def test_can_go_there():\n",
    "    puzzle_t1 ='#######\\n#@ $. #\\n#######'\n",
    "    wh = Warehouse()    \n",
    "    wh.extract_locations(puzzle_t1.split(sep='\\n'))\n",
    "    # first test\n",
    "    answer = can_go_there(wh,(1,2))\n",
    "    expected_answer = True\n",
    "    fcn = test_can_go_there\n",
    "    print('<<  First test of {} >>'.format(fcn.__name__))\n",
    "    if answer==expected_answer:\n",
    "        print(fcn.__name__, ' passed!  :-)\\n')\n",
    "    else:\n",
    "        print(fcn.__name__, ' failed!  :-(\\n')\n",
    "        print('Expected ');print(expected_answer)\n",
    "        print('But, received ');print(answer)\n",
    "    # second test\n",
    "    answer = can_go_there(wh,(1,5))\n",
    "    expected_answer = False\n",
    "    print('<<  Second test of {} >>'.format(fcn.__name__))\n",
    "    if answer==expected_answer:\n",
    "        print(fcn.__name__, ' passed!  :-)\\n')\n",
    "    else:\n",
    "        print(fcn.__name__, ' failed!  :-(\\n')\n",
    "        print('Expected ');print(expected_answer)\n",
    "        print('But, received ');print(answer)\n",
    "\n",
    "def test_solve_sokoban_macro():\n",
    "    puzzle_t2 ='#######\\n#@ $ .#\\n#######'\n",
    "    wh = Warehouse()    \n",
    "    wh.extract_locations(puzzle_t2.split(sep='\\n'))\n",
    "    # first test\n",
    "    answer=solve_sokoban_macro(wh)\n",
    "    expected_answer = [((1, 3), 'Right'), ((1, 4), 'Right')]\n",
    "    fcn = test_solve_sokoban_macro\n",
    "    print('<<  First test of {} >>'.format(fcn.__name__))\n",
    "    if answer==expected_answer:\n",
    "        print(fcn.__name__, ' passed!  :-)\\n')\n",
    "    else:\n",
    "        print(fcn.__name__, ' failed!  :-(\\n')\n",
    "        print('Expected ');print(expected_answer)\n",
    "        print('But, received ');print(answer)\n",
    "\n",
    "    \n",
    "print('############################## Sanity Check Output ##############################')\n",
    "\n",
    "print(my_team())  # should print your team\n",
    "test_taboo_cells() \n",
    "test_check_elem_action_seq()\n",
    "test_solve_sokoban_elem()\n",
    "test_can_go_there()\n",
    "test_solve_sokoban_macro()   \n",
    "\n",
    "print('#################################################################################')"
   ]
  },
  {
   "cell_type": "code",
   "execution_count": null,
   "id": "a783d771-d971-436f-b2e4-911da6948eb0",
   "metadata": {},
   "outputs": [],
   "source": []
  }
 ],
 "metadata": {
  "kernelspec": {
   "display_name": "Python 3 (ipykernel)",
   "language": "python",
   "name": "python3"
  },
  "language_info": {
   "codemirror_mode": {
    "name": "ipython",
    "version": 3
   },
   "file_extension": ".py",
   "mimetype": "text/x-python",
   "name": "python",
   "nbconvert_exporter": "python",
   "pygments_lexer": "ipython3",
   "version": "3.11.9"
  }
 },
 "nbformat": 4,
 "nbformat_minor": 5
}
