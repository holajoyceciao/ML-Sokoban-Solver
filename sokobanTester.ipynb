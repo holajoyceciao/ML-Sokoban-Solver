{
 "cells": [
  {
   "cell_type": "code",
   "execution_count": 1,
   "id": "ed3eb8ab-7944-4573-83e5-2d18cf808d7f",
   "metadata": {},
   "outputs": [],
   "source": [
    "import glob\n",
    "import time\n",
    "from sokoban import Warehouse\n",
    "import os\n",
    "import pandas as pd\n",
    "import seaborn as sns\n",
    "import matplotlib.pyplot as plt\n",
    "\n",
    "import search"
   ]
  },
  {
   "cell_type": "markdown",
   "id": "d46f54d6-4039-42d3-92d8-ac81c63ae53a",
   "metadata": {},
   "source": [
    "## This Testing File\n",
    "\n",
    "There are two sections to this testing file:\n",
    "1. Visualise results of functions on all the warehouses, including: the prediction, the time taken to produce the prediction.\n",
    "2. Test your functions perform correctly on warehouse 1. This is similar to the tests that Gradescope will run."
   ]
  },
  {
   "cell_type": "code",
   "execution_count": 2,
   "id": "471f3512-8f94-436d-8fee-d48614b92dbb",
   "metadata": {},
   "outputs": [],
   "source": [
    "#Import the mySokobanSolver.py file to import all functions\n",
    "from mySokobanSolver import *"
   ]
  },
  {
   "cell_type": "markdown",
   "id": "bc21c506-c52c-4eb5-ab5b-7e7d8b702264",
   "metadata": {},
   "source": [
    "## Visualise results"
   ]
  },
  {
   "cell_type": "code",
   "execution_count": 3,
   "id": "1c0dbba1-8b2a-4a84-b149-18752f77d3c1",
   "metadata": {},
   "outputs": [],
   "source": [
    "def test_warehouse(problem_file, macro = False):\n",
    "    '''\n",
    "    This function will test the performance of your warehouse for either macro or elem solutions and return the result.\n",
    "    You can check if this solution works with your gui, or by cleverly using the check_action_seq function.\n",
    "    '''\n",
    "\n",
    "    wh = Warehouse()\n",
    "    wh.load_warehouse(problem_file)\n",
    "\n",
    "    if macro:\n",
    "        student_answer =  solve_sokoban_macro(wh)\n",
    "    else:\n",
    "        student_answer = solve_sokoban_elem(wh)\n",
    "        \n",
    "    return student_answer\n",
    "#.............................................................\n"
   ]
  },
  {
   "cell_type": "code",
   "execution_count": 8,
   "id": "35478aa9",
   "metadata": {},
   "outputs": [
    {
     "name": "stdout",
     "output_type": "stream",
     "text": [
      "Initialized SokobanPuzzle with goal: (1, 2)\n",
      "Initialized SokobanPuzzle with goal: (1, 2)\n",
      "None\n"
     ]
    }
   ],
   "source": [
    "wh = Warehouse()\n",
    "wh.load_warehouse(\"./warehouses/warehouses/warehouse_01.txt\")\n",
    "sokoban = SokobanPuzzle(wh, macro=True, goal=(1,2), allow_taboo_push=False)\n",
    "print(sokoban.goal)\n",
    "#action = sokoban.actions(tuple((wh.worker, wh.boxes)))\n",
    "#result = search.breadth_first_graph_search(sokoban)\n",
    "#print(result)"
   ]
  },
  {
   "cell_type": "code",
   "execution_count": 5,
   "id": "d9ecd8ce-d106-4a57-9aa8-dff41f21950c",
   "metadata": {},
   "outputs": [
    {
     "name": "stdout",
     "output_type": "stream",
     "text": [
      "Testing warehouses/warehouses\\warehouse_01.txt\n",
      "Initialized SokobanPuzzle with goal: None\n",
      "Initialized SokobanPuzzle with goal: None\n",
      "value for the goal: (4, 4)\n",
      "Initialized SokobanPuzzle with goal: (4, 4)\n",
      "Initialized SokobanPuzzle with goal: (4, 4)\n",
      "test sokoban goal: None\n"
     ]
    },
    {
     "ename": "TypeError",
     "evalue": "'NoneType' object is not subscriptable",
     "output_type": "error",
     "traceback": [
      "\u001b[1;31m---------------------------------------------------------------------------\u001b[0m",
      "\u001b[1;31mTypeError\u001b[0m                                 Traceback (most recent call last)",
      "\u001b[1;32m<ipython-input-5-e78620308f5d>\u001b[0m in \u001b[0;36m<module>\u001b[1;34m\u001b[0m\n\u001b[0;32m      4\u001b[0m     \u001b[0mprint\u001b[0m\u001b[1;33m(\u001b[0m\u001b[1;34mf'Testing {problem_file}'\u001b[0m\u001b[1;33m)\u001b[0m\u001b[1;33m\u001b[0m\u001b[1;33m\u001b[0m\u001b[0m\n\u001b[0;32m      5\u001b[0m     \u001b[0ms\u001b[0m \u001b[1;33m=\u001b[0m \u001b[0mtime\u001b[0m\u001b[1;33m.\u001b[0m\u001b[0mtime\u001b[0m\u001b[1;33m(\u001b[0m\u001b[1;33m)\u001b[0m\u001b[1;33m\u001b[0m\u001b[1;33m\u001b[0m\u001b[0m\n\u001b[1;32m----> 6\u001b[1;33m     \u001b[0ma\u001b[0m \u001b[1;33m=\u001b[0m \u001b[0mtest_warehouse\u001b[0m\u001b[1;33m(\u001b[0m\u001b[0mproblem_file\u001b[0m\u001b[1;33m,\u001b[0m\u001b[0mmacro\u001b[0m\u001b[1;33m=\u001b[0m\u001b[1;32mTrue\u001b[0m\u001b[1;33m)\u001b[0m\u001b[1;33m\u001b[0m\u001b[1;33m\u001b[0m\u001b[0m\n\u001b[0m\u001b[0;32m      7\u001b[0m     \u001b[0mprint\u001b[0m\u001b[1;33m(\u001b[0m\u001b[1;34mf'Answer: {a}'\u001b[0m\u001b[1;33m)\u001b[0m\u001b[1;33m\u001b[0m\u001b[1;33m\u001b[0m\u001b[0m\n\u001b[0;32m      8\u001b[0m     \u001b[0mprint\u001b[0m\u001b[1;33m(\u001b[0m\u001b[1;34mf'Time taken: {time.time()-s :.3f} seconds'\u001b[0m\u001b[1;33m)\u001b[0m\u001b[1;33m\u001b[0m\u001b[1;33m\u001b[0m\u001b[0m\n",
      "\u001b[1;32m<ipython-input-3-4d9e352859db>\u001b[0m in \u001b[0;36mtest_warehouse\u001b[1;34m(problem_file, macro)\u001b[0m\n\u001b[0;32m      9\u001b[0m \u001b[1;33m\u001b[0m\u001b[0m\n\u001b[0;32m     10\u001b[0m     \u001b[1;32mif\u001b[0m \u001b[0mmacro\u001b[0m\u001b[1;33m:\u001b[0m\u001b[1;33m\u001b[0m\u001b[1;33m\u001b[0m\u001b[0m\n\u001b[1;32m---> 11\u001b[1;33m         \u001b[0mstudent_answer\u001b[0m \u001b[1;33m=\u001b[0m  \u001b[0msolve_sokoban_macro\u001b[0m\u001b[1;33m(\u001b[0m\u001b[0mwh\u001b[0m\u001b[1;33m)\u001b[0m\u001b[1;33m\u001b[0m\u001b[1;33m\u001b[0m\u001b[0m\n\u001b[0m\u001b[0;32m     12\u001b[0m     \u001b[1;32melse\u001b[0m\u001b[1;33m:\u001b[0m\u001b[1;33m\u001b[0m\u001b[1;33m\u001b[0m\u001b[0m\n\u001b[0;32m     13\u001b[0m         \u001b[0mstudent_answer\u001b[0m \u001b[1;33m=\u001b[0m \u001b[0msolve_sokoban_elem\u001b[0m\u001b[1;33m(\u001b[0m\u001b[0mwh\u001b[0m\u001b[1;33m)\u001b[0m\u001b[1;33m\u001b[0m\u001b[1;33m\u001b[0m\u001b[0m\n",
      "\u001b[1;32mc:\\Users\\lorie\\OneDrive\\Bureau\\Sokoban_Solver-master\\Sokoban_Solver-master\\mySokobanSolver.py\u001b[0m in \u001b[0;36msolve_sokoban_macro\u001b[1;34m(warehouse)\u001b[0m\n\u001b[0;32m    647\u001b[0m \u001b[1;33m\u001b[0m\u001b[0m\n\u001b[0;32m    648\u001b[0m     \u001b[1;31m# use breadth-first search as default\u001b[0m\u001b[1;33m\u001b[0m\u001b[1;33m\u001b[0m\u001b[1;33m\u001b[0m\u001b[0m\n\u001b[1;32m--> 649\u001b[1;33m     \u001b[0msolution_node\u001b[0m \u001b[1;33m=\u001b[0m \u001b[0msearch\u001b[0m\u001b[1;33m.\u001b[0m\u001b[0mastar_graph_search\u001b[0m\u001b[1;33m(\u001b[0m\u001b[0msokoban\u001b[0m\u001b[1;33m,\u001b[0m \u001b[0msokoban\u001b[0m\u001b[1;33m.\u001b[0m\u001b[0mh\u001b[0m\u001b[1;33m)\u001b[0m\u001b[1;33m\u001b[0m\u001b[1;33m\u001b[0m\u001b[0m\n\u001b[0m\u001b[0;32m    650\u001b[0m \u001b[1;33m\u001b[0m\u001b[0m\n\u001b[0;32m    651\u001b[0m \u001b[1;33m\u001b[0m\u001b[0m\n",
      "\u001b[1;32mc:\\Users\\lorie\\OneDrive\\Bureau\\Sokoban_Solver-master\\Sokoban_Solver-master\\search.py\u001b[0m in \u001b[0;36mastar_graph_search\u001b[1;34m(problem, h)\u001b[0m\n\u001b[0;32m    424\u001b[0m     else in your Problem subclass.\"\"\"\n\u001b[0;32m    425\u001b[0m     \u001b[0mh\u001b[0m \u001b[1;33m=\u001b[0m \u001b[0mmemoize\u001b[0m\u001b[1;33m(\u001b[0m\u001b[0mh\u001b[0m \u001b[1;32mor\u001b[0m \u001b[0mproblem\u001b[0m\u001b[1;33m.\u001b[0m\u001b[0mh\u001b[0m\u001b[1;33m)\u001b[0m\u001b[1;33m\u001b[0m\u001b[1;33m\u001b[0m\u001b[0m\n\u001b[1;32m--> 426\u001b[1;33m     \u001b[1;32mreturn\u001b[0m \u001b[0mbest_first_graph_search\u001b[0m\u001b[1;33m(\u001b[0m\u001b[0mproblem\u001b[0m\u001b[1;33m,\u001b[0m \u001b[1;32mlambda\u001b[0m \u001b[0mn\u001b[0m\u001b[1;33m:\u001b[0m \u001b[0mn\u001b[0m\u001b[1;33m.\u001b[0m\u001b[0mpath_cost\u001b[0m \u001b[1;33m+\u001b[0m \u001b[0mh\u001b[0m\u001b[1;33m(\u001b[0m\u001b[0mn\u001b[0m\u001b[1;33m)\u001b[0m\u001b[1;33m)\u001b[0m\u001b[1;33m\u001b[0m\u001b[1;33m\u001b[0m\u001b[0m\n\u001b[0m\u001b[0;32m    427\u001b[0m \u001b[1;33m\u001b[0m\u001b[0m\n\u001b[0;32m    428\u001b[0m \u001b[1;33m\u001b[0m\u001b[0m\n",
      "\u001b[1;32mc:\\Users\\lorie\\OneDrive\\Bureau\\Sokoban_Solver-master\\Sokoban_Solver-master\\search.py\u001b[0m in \u001b[0;36mbest_first_graph_search\u001b[1;34m(problem, f)\u001b[0m\n\u001b[0;32m    369\u001b[0m             \u001b[1;32mreturn\u001b[0m \u001b[0mnode\u001b[0m\u001b[1;33m\u001b[0m\u001b[1;33m\u001b[0m\u001b[0m\n\u001b[0;32m    370\u001b[0m         \u001b[0mexplored\u001b[0m\u001b[1;33m.\u001b[0m\u001b[0madd\u001b[0m\u001b[1;33m(\u001b[0m\u001b[0mnode\u001b[0m\u001b[1;33m.\u001b[0m\u001b[0mstate\u001b[0m\u001b[1;33m)\u001b[0m\u001b[1;33m\u001b[0m\u001b[1;33m\u001b[0m\u001b[0m\n\u001b[1;32m--> 371\u001b[1;33m         \u001b[1;32mfor\u001b[0m \u001b[0mchild\u001b[0m \u001b[1;32min\u001b[0m \u001b[0mnode\u001b[0m\u001b[1;33m.\u001b[0m\u001b[0mexpand\u001b[0m\u001b[1;33m(\u001b[0m\u001b[0mproblem\u001b[0m\u001b[1;33m)\u001b[0m\u001b[1;33m:\u001b[0m\u001b[1;33m\u001b[0m\u001b[1;33m\u001b[0m\u001b[0m\n\u001b[0m\u001b[0;32m    372\u001b[0m             \u001b[1;32mif\u001b[0m \u001b[0mchild\u001b[0m\u001b[1;33m.\u001b[0m\u001b[0mstate\u001b[0m \u001b[1;32mnot\u001b[0m \u001b[1;32min\u001b[0m \u001b[0mexplored\u001b[0m \u001b[1;32mand\u001b[0m \u001b[0mchild\u001b[0m \u001b[1;32mnot\u001b[0m \u001b[1;32min\u001b[0m \u001b[0mfrontier\u001b[0m\u001b[1;33m:\u001b[0m\u001b[1;33m\u001b[0m\u001b[1;33m\u001b[0m\u001b[0m\n\u001b[0;32m    373\u001b[0m                 \u001b[0mfrontier\u001b[0m\u001b[1;33m.\u001b[0m\u001b[0mappend\u001b[0m\u001b[1;33m(\u001b[0m\u001b[0mchild\u001b[0m\u001b[1;33m)\u001b[0m\u001b[1;33m\u001b[0m\u001b[1;33m\u001b[0m\u001b[0m\n",
      "\u001b[1;32mc:\\Users\\lorie\\OneDrive\\Bureau\\Sokoban_Solver-master\\Sokoban_Solver-master\\search.py\u001b[0m in \u001b[0;36mexpand\u001b[1;34m(self, problem)\u001b[0m\n\u001b[0;32m    223\u001b[0m         \u001b[1;34m\"List the nodes reachable in one step from this node.\"\u001b[0m\u001b[1;33m\u001b[0m\u001b[1;33m\u001b[0m\u001b[0m\n\u001b[0;32m    224\u001b[0m         return [self.child_node(problem, action)\n\u001b[1;32m--> 225\u001b[1;33m                 for action in problem.actions(self.state)]\n\u001b[0m\u001b[0;32m    226\u001b[0m \u001b[1;33m\u001b[0m\u001b[0m\n\u001b[0;32m    227\u001b[0m     \u001b[1;32mdef\u001b[0m \u001b[0mchild_node\u001b[0m\u001b[1;33m(\u001b[0m\u001b[0mself\u001b[0m\u001b[1;33m,\u001b[0m \u001b[0mproblem\u001b[0m\u001b[1;33m,\u001b[0m \u001b[0maction\u001b[0m\u001b[1;33m)\u001b[0m\u001b[1;33m:\u001b[0m\u001b[1;33m\u001b[0m\u001b[1;33m\u001b[0m\u001b[0m\n",
      "\u001b[1;32mc:\\Users\\lorie\\OneDrive\\Bureau\\Sokoban_Solver-master\\Sokoban_Solver-master\\mySokobanSolver.py\u001b[0m in \u001b[0;36mactions\u001b[1;34m(self, state)\u001b[0m\n\u001b[0;32m    244\u001b[0m                         \u001b[0mtemp_warehouse\u001b[0m \u001b[1;33m=\u001b[0m \u001b[0mself\u001b[0m\u001b[1;33m.\u001b[0m\u001b[0mwarehouse\u001b[0m\u001b[1;33m.\u001b[0m\u001b[0mcopy\u001b[0m\u001b[1;33m(\u001b[0m\u001b[0mworker\u001b[0m\u001b[1;33m=\u001b[0m\u001b[0mworker\u001b[0m\u001b[1;33m,\u001b[0m \u001b[0mboxes\u001b[0m\u001b[1;33m=\u001b[0m\u001b[0mboxes\u001b[0m\u001b[1;33m)\u001b[0m\u001b[1;33m\u001b[0m\u001b[1;33m\u001b[0m\u001b[0m\n\u001b[0;32m    245\u001b[0m                         \u001b[1;31m# check if the worker can go there, targer is y, x so needs to be inverted\u001b[0m\u001b[1;33m\u001b[0m\u001b[1;33m\u001b[0m\u001b[1;33m\u001b[0m\u001b[0m\n\u001b[1;32m--> 246\u001b[1;33m                         \u001b[0mprint\u001b[0m\u001b[1;33m(\u001b[0m\u001b[0mcan_go_there\u001b[0m\u001b[1;33m(\u001b[0m\u001b[0mtemp_warehouse\u001b[0m\u001b[1;33m,\u001b[0m \u001b[1;33m(\u001b[0m\u001b[0mworker_pos\u001b[0m\u001b[1;33m[\u001b[0m\u001b[1;36m1\u001b[0m\u001b[1;33m]\u001b[0m\u001b[1;33m,\u001b[0m \u001b[0mworker_pos\u001b[0m\u001b[1;33m[\u001b[0m\u001b[1;36m0\u001b[0m\u001b[1;33m]\u001b[0m\u001b[1;33m)\u001b[0m\u001b[1;33m)\u001b[0m\u001b[1;33m)\u001b[0m\u001b[1;33m\u001b[0m\u001b[1;33m\u001b[0m\u001b[0m\n\u001b[0m\u001b[0;32m    247\u001b[0m                         \u001b[1;32mif\u001b[0m \u001b[0mcan_go_there\u001b[0m\u001b[1;33m(\u001b[0m\u001b[0mtemp_warehouse\u001b[0m\u001b[1;33m,\u001b[0m \u001b[1;33m(\u001b[0m\u001b[0mworker_pos\u001b[0m\u001b[1;33m[\u001b[0m\u001b[1;36m1\u001b[0m\u001b[1;33m]\u001b[0m\u001b[1;33m,\u001b[0m \u001b[0mworker_pos\u001b[0m\u001b[1;33m[\u001b[0m\u001b[1;36m0\u001b[0m\u001b[1;33m]\u001b[0m\u001b[1;33m)\u001b[0m\u001b[1;33m)\u001b[0m\u001b[1;33m:\u001b[0m\u001b[1;33m\u001b[0m\u001b[1;33m\u001b[0m\u001b[0m\n\u001b[0;32m    248\u001b[0m                                 \u001b[0mpossible_actions\u001b[0m\u001b[1;33m.\u001b[0m\u001b[0mappend\u001b[0m\u001b[1;33m(\u001b[0m\u001b[1;33m(\u001b[0m\u001b[1;33m(\u001b[0m\u001b[0mbox\u001b[0m\u001b[1;33m[\u001b[0m\u001b[1;36m1\u001b[0m\u001b[1;33m]\u001b[0m\u001b[1;33m,\u001b[0m \u001b[0mbox\u001b[0m\u001b[1;33m[\u001b[0m\u001b[1;36m0\u001b[0m\u001b[1;33m]\u001b[0m\u001b[1;33m)\u001b[0m\u001b[1;33m,\u001b[0m \u001b[0mmove\u001b[0m\u001b[1;33m)\u001b[0m\u001b[1;33m)\u001b[0m\u001b[1;33m\u001b[0m\u001b[1;33m\u001b[0m\u001b[0m\n",
      "\u001b[1;32mc:\\Users\\lorie\\OneDrive\\Bureau\\Sokoban_Solver-master\\Sokoban_Solver-master\\mySokobanSolver.py\u001b[0m in \u001b[0;36mcan_go_there\u001b[1;34m(warehouse, dst)\u001b[0m\n\u001b[0;32m    615\u001b[0m     \u001b[0mcan_go_sokoban\u001b[0m \u001b[1;33m=\u001b[0m \u001b[0mSokobanPuzzle\u001b[0m\u001b[1;33m(\u001b[0m\u001b[0mwarehouse\u001b[0m\u001b[1;33m,\u001b[0m \u001b[0mgoal\u001b[0m\u001b[1;33m=\u001b[0m\u001b[0mgoal\u001b[0m\u001b[1;33m,\u001b[0m \u001b[0mallow_push\u001b[0m\u001b[1;33m=\u001b[0m\u001b[1;32mFalse\u001b[0m\u001b[1;33m)\u001b[0m\u001b[1;33m\u001b[0m\u001b[1;33m\u001b[0m\u001b[0m\n\u001b[0;32m    616\u001b[0m     \u001b[0mprint\u001b[0m\u001b[1;33m(\u001b[0m\u001b[1;34m\"test sokoban goal:\"\u001b[0m\u001b[1;33m,\u001b[0m \u001b[0mcan_go_sokoban\u001b[0m\u001b[1;33m.\u001b[0m\u001b[0mgoal\u001b[0m\u001b[1;33m)\u001b[0m\u001b[1;33m\u001b[0m\u001b[1;33m\u001b[0m\u001b[0m\n\u001b[1;32m--> 617\u001b[1;33m     \u001b[0msol_ts\u001b[0m \u001b[1;33m=\u001b[0m \u001b[0msearch\u001b[0m\u001b[1;33m.\u001b[0m\u001b[0mbest_first_graph_search\u001b[0m\u001b[1;33m(\u001b[0m\u001b[0mcan_go_sokoban\u001b[0m\u001b[1;33m,\u001b[0m \u001b[0mcan_go_sokoban\u001b[0m\u001b[1;33m.\u001b[0m\u001b[0mh_2\u001b[0m\u001b[1;33m)\u001b[0m\u001b[1;33m\u001b[0m\u001b[1;33m\u001b[0m\u001b[0m\n\u001b[0m\u001b[0;32m    618\u001b[0m     \u001b[1;32mif\u001b[0m \u001b[0msol_ts\u001b[0m \u001b[1;32mis\u001b[0m \u001b[1;32mnot\u001b[0m \u001b[1;32mNone\u001b[0m\u001b[1;33m:\u001b[0m\u001b[1;33m\u001b[0m\u001b[1;33m\u001b[0m\u001b[0m\n\u001b[0;32m    619\u001b[0m         \u001b[1;32mreturn\u001b[0m \u001b[1;32mTrue\u001b[0m\u001b[1;33m\u001b[0m\u001b[1;33m\u001b[0m\u001b[0m\n",
      "\u001b[1;32mc:\\Users\\lorie\\OneDrive\\Bureau\\Sokoban_Solver-master\\Sokoban_Solver-master\\search.py\u001b[0m in \u001b[0;36mbest_first_graph_search\u001b[1;34m(problem, f)\u001b[0m\n\u001b[0;32m    362\u001b[0m         \u001b[1;32mreturn\u001b[0m \u001b[0mnode\u001b[0m\u001b[1;33m\u001b[0m\u001b[1;33m\u001b[0m\u001b[0m\n\u001b[0;32m    363\u001b[0m     \u001b[0mfrontier\u001b[0m \u001b[1;33m=\u001b[0m \u001b[0mPriorityQueue\u001b[0m\u001b[1;33m(\u001b[0m\u001b[0mf\u001b[0m\u001b[1;33m)\u001b[0m\u001b[1;33m\u001b[0m\u001b[1;33m\u001b[0m\u001b[0m\n\u001b[1;32m--> 364\u001b[1;33m     \u001b[0mfrontier\u001b[0m\u001b[1;33m.\u001b[0m\u001b[0mappend\u001b[0m\u001b[1;33m(\u001b[0m\u001b[0mnode\u001b[0m\u001b[1;33m)\u001b[0m\u001b[1;33m\u001b[0m\u001b[1;33m\u001b[0m\u001b[0m\n\u001b[0m\u001b[0;32m    365\u001b[0m     \u001b[0mexplored\u001b[0m \u001b[1;33m=\u001b[0m \u001b[0mset\u001b[0m\u001b[1;33m(\u001b[0m\u001b[1;33m)\u001b[0m\u001b[1;33m\u001b[0m\u001b[1;33m\u001b[0m\u001b[0m\n\u001b[0;32m    366\u001b[0m     \u001b[1;32mwhile\u001b[0m \u001b[0mfrontier\u001b[0m\u001b[1;33m:\u001b[0m\u001b[1;33m\u001b[0m\u001b[1;33m\u001b[0m\u001b[0m\n",
      "\u001b[1;32mc:\\Users\\lorie\\OneDrive\\Bureau\\Sokoban_Solver-master\\Sokoban_Solver-master\\search.py\u001b[0m in \u001b[0;36mappend\u001b[1;34m(self, item)\u001b[0m\n\u001b[0;32m    112\u001b[0m     \u001b[1;32mdef\u001b[0m \u001b[0mappend\u001b[0m\u001b[1;33m(\u001b[0m\u001b[0mself\u001b[0m\u001b[1;33m,\u001b[0m \u001b[0mitem\u001b[0m\u001b[1;33m)\u001b[0m\u001b[1;33m:\u001b[0m\u001b[1;33m\u001b[0m\u001b[1;33m\u001b[0m\u001b[0m\n\u001b[0;32m    113\u001b[0m         \u001b[1;31m# thw pair  (f(item), counter_value, item)  is pushed on the internal heapq\u001b[0m\u001b[1;33m\u001b[0m\u001b[1;33m\u001b[0m\u001b[1;33m\u001b[0m\u001b[0m\n\u001b[1;32m--> 114\u001b[1;33m         \u001b[0mheapq\u001b[0m\u001b[1;33m.\u001b[0m\u001b[0mheappush\u001b[0m\u001b[1;33m(\u001b[0m\u001b[0mself\u001b[0m\u001b[1;33m.\u001b[0m\u001b[0mheap\u001b[0m\u001b[1;33m,\u001b[0m \u001b[1;33m(\u001b[0m\u001b[0mself\u001b[0m\u001b[1;33m.\u001b[0m\u001b[0mf\u001b[0m\u001b[1;33m(\u001b[0m\u001b[0mitem\u001b[0m\u001b[1;33m)\u001b[0m\u001b[1;33m,\u001b[0m\u001b[0mnext\u001b[0m\u001b[1;33m(\u001b[0m\u001b[0mself\u001b[0m\u001b[1;33m.\u001b[0m\u001b[0mcounter\u001b[0m\u001b[1;33m)\u001b[0m\u001b[1;33m,\u001b[0m  \u001b[0mitem\u001b[0m\u001b[1;33m)\u001b[0m\u001b[1;33m)\u001b[0m\u001b[1;33m\u001b[0m\u001b[1;33m\u001b[0m\u001b[0m\n\u001b[0m\u001b[0;32m    115\u001b[0m \u001b[1;33m\u001b[0m\u001b[0m\n\u001b[0;32m    116\u001b[0m     \u001b[1;32mdef\u001b[0m \u001b[0mextend\u001b[0m\u001b[1;33m(\u001b[0m\u001b[0mself\u001b[0m\u001b[1;33m,\u001b[0m \u001b[0mitems\u001b[0m\u001b[1;33m)\u001b[0m\u001b[1;33m:\u001b[0m\u001b[1;33m\u001b[0m\u001b[1;33m\u001b[0m\u001b[0m\n",
      "\u001b[1;32mc:\\Users\\lorie\\OneDrive\\Bureau\\Sokoban_Solver-master\\Sokoban_Solver-master\\mySokobanSolver.py\u001b[0m in \u001b[0;36mh_2\u001b[1;34m(self, node)\u001b[0m\n\u001b[0;32m    417\u001b[0m         \u001b[0mplayer_x\u001b[0m\u001b[1;33m,\u001b[0m \u001b[0mplayer_y\u001b[0m \u001b[1;33m=\u001b[0m \u001b[0mworker\u001b[0m\u001b[1;33m\u001b[0m\u001b[1;33m\u001b[0m\u001b[0m\n\u001b[0;32m    418\u001b[0m         \u001b[1;31m# using Manhattan Distance\u001b[0m\u001b[1;33m\u001b[0m\u001b[1;33m\u001b[0m\u001b[1;33m\u001b[0m\u001b[0m\n\u001b[1;32m--> 419\u001b[1;33m         \u001b[0mdistance\u001b[0m \u001b[1;33m=\u001b[0m\u001b[0mabs\u001b[0m\u001b[1;33m(\u001b[0m\u001b[0mplayer_x\u001b[0m \u001b[1;33m-\u001b[0m \u001b[0mself\u001b[0m\u001b[1;33m.\u001b[0m\u001b[0mgoal\u001b[0m\u001b[1;33m[\u001b[0m\u001b[1;36m0\u001b[0m\u001b[1;33m]\u001b[0m\u001b[1;33m)\u001b[0m \u001b[1;33m+\u001b[0m \u001b[0mabs\u001b[0m\u001b[1;33m(\u001b[0m\u001b[0mplayer_y\u001b[0m \u001b[1;33m-\u001b[0m \u001b[0mself\u001b[0m\u001b[1;33m.\u001b[0m\u001b[0mgoal\u001b[0m\u001b[1;33m[\u001b[0m\u001b[1;36m1\u001b[0m\u001b[1;33m]\u001b[0m\u001b[1;33m)\u001b[0m\u001b[1;33m\u001b[0m\u001b[1;33m\u001b[0m\u001b[0m\n\u001b[0m\u001b[0;32m    420\u001b[0m         \u001b[1;32mreturn\u001b[0m \u001b[0mdistance\u001b[0m\u001b[1;33m\u001b[0m\u001b[1;33m\u001b[0m\u001b[0m\n\u001b[0;32m    421\u001b[0m \u001b[1;33m\u001b[0m\u001b[0m\n",
      "\u001b[1;31mTypeError\u001b[0m: 'NoneType' object is not subscriptable"
     ]
    }
   ],
   "source": [
    "all_warehouses = sorted(glob.glob('warehouses/warehouses/*.txt'))\n",
    "\n",
    "for problem_file in all_warehouses:\n",
    "    print(f'Testing {problem_file}')\n",
    "    s = time.time()\n",
    "    a = test_warehouse(problem_file,macro=True)\n",
    "    print(f'Answer: {a}')\n",
    "    print(f'Time taken: {time.time()-s :.3f} seconds')              "
   ]
  },
  {
   "cell_type": "markdown",
   "id": "e54a1258-d0ad-46e1-8601-a4fba099f15c",
   "metadata": {},
   "source": [
    "## Test function performance on warehouse 1 (similar to gradescope tests)"
   ]
  },
  {
   "cell_type": "code",
   "execution_count": 5,
   "id": "d31871ea-5266-4b78-894d-2669e5d23792",
   "metadata": {},
   "outputs": [
    {
     "name": "stdout",
     "output_type": "stream",
     "text": [
      "############################## Sanity Check Output ##############################\n",
      "[(11393611, 'Yu-Ying', 'Tang'), (11371200, 'Arthur', 'Guillaume')]\n",
      "<<  Testing test_taboo_cells >>\n",
      "test_taboo_cells  passed!  :-)\n",
      "\n",
      "<<  First test of test_check_elem_action_seq >>\n",
      "test_check_elem_action_seq  passed!  :-)\n",
      "\n",
      "<<  Second test of test_check_elem_action_seq >>\n",
      "test_check_elem_action_seq  passed!  :-)\n",
      "\n",
      "<<  First test of test_solve_sokoban_elem >>\n",
      "test_solve_sokoban_elem  passed!  :-)\n",
      "\n",
      "<<  Second test of test_solve_sokoban_elem >>\n",
      "test_solve_sokoban_elem  passed!  :-)\n",
      "\n",
      "<<  First test of test_can_go_there >>\n",
      "test_can_go_there  passed!  :-)\n",
      "\n",
      "<<  Second test of test_can_go_there >>\n",
      "test_can_go_there  passed!  :-)\n",
      "\n",
      "<<  First test of test_solve_sokoban_macro >>\n",
      "test_solve_sokoban_macro  passed!  :-)\n",
      "\n",
      "#################################################################################\n"
     ]
    }
   ],
   "source": [
    "'''\n",
    "\n",
    "This script tests functions in your submission 'mySokobanSolver.py'\n",
    "\n",
    "A similar script (with different inputs) will be used for marking your code.\n",
    "\n",
    "Make sure that your code runs without errors with this script.\n",
    "\n",
    "\n",
    "'''\n",
    "\n",
    "def test_taboo_cells():\n",
    "    wh = Warehouse()\n",
    "    wh.load_warehouse(\"./warehouses/warehouses/warehouse_0001.txt\")\n",
    "    expected_answer = '####  \\n#X #  \\n#  ###\\n#   X#\\n#   X#\\n#XX###\\n####  '\n",
    "    answer = taboo_cells(wh)\n",
    "    fcn = test_taboo_cells    \n",
    "    print('<<  Testing {} >>'.format(fcn.__name__))\n",
    "    if answer==expected_answer:\n",
    "        print(fcn.__name__, ' passed!  :-)\\n')\n",
    "    else:\n",
    "        print(fcn.__name__, ' failed!  :-(\\n')\n",
    "        print('Expected ');print(expected_answer)\n",
    "        print('But, received ');print(answer)\n",
    "        \n",
    "\n",
    "def test_check_elem_action_seq():\n",
    "    wh = Warehouse()\n",
    "    wh.load_warehouse(\"./warehouses/warehouses/warehouse_0001.txt\")\n",
    "    # first test\n",
    "    answer = check_action_seq(wh, ['Right', 'Right','Down'])\n",
    "    expected_answer = '####  \\n# .#  \\n#  ###\\n#*   #\\n#  $@#\\n#  ###\\n####  '\n",
    "    fcn = test_check_elem_action_seq    \n",
    "    print('<<  First test of {} >>'.format(fcn.__name__))\n",
    "    if answer==expected_answer:\n",
    "        print(fcn.__name__, ' passed!  :-)\\n')\n",
    "    else:\n",
    "        print(fcn.__name__, ' failed!  :-(\\n')\n",
    "        print('Expected ');print(expected_answer)\n",
    "        print('But, received ');print(answer)\n",
    "    # second test\n",
    "    answer = check_action_seq(wh, ['Right', 'Right','Right'])\n",
    "    expected_answer = 'Failure'\n",
    "    fcn = test_check_elem_action_seq    \n",
    "    print('<<  Second test of {} >>'.format(fcn.__name__))\n",
    "    if answer==expected_answer:\n",
    "        print(fcn.__name__, ' passed!  :-)\\n')\n",
    "    else:\n",
    "        print(fcn.__name__, ' failed!  :-(\\n')\n",
    "        print('Expected ');print(expected_answer)\n",
    "        print('But, received ');print(answer)\n",
    "\n",
    "def test_solve_sokoban_elem():\n",
    "    puzzle_t1 ='#######\\n#@ $. #\\n#######'\n",
    "    wh = Warehouse()    \n",
    "    wh.extract_locations(puzzle_t1.split(sep='\\n'))\n",
    "    # first test\n",
    "    answer = solve_sokoban_elem(wh)\n",
    "    expected_answer = ['Right', 'Right']\n",
    "    fcn = test_solve_sokoban_elem\n",
    "    print('<<  First test of {} >>'.format(fcn.__name__))\n",
    "    if answer==expected_answer:\n",
    "        print(fcn.__name__, ' passed!  :-)\\n')\n",
    "    else:\n",
    "        print(fcn.__name__, ' failed!  :-(\\n')\n",
    "        print('Expected ');print(expected_answer)\n",
    "        print('But, received ');print(answer)\n",
    "    # second test\n",
    "    puzzle_t2 ='#######\\n#@ $ #.#\\n#######'\n",
    "    wh = Warehouse()    \n",
    "    wh.extract_locations(puzzle_t2.split(sep='\\n'))\n",
    "    # second test\n",
    "    answer = solve_sokoban_elem(wh)\n",
    "    expected_answer = 'Impossible'\n",
    "    print('<<  Second test of {} >>'.format(fcn.__name__))\n",
    "    if answer==expected_answer:\n",
    "        print(fcn.__name__, ' passed!  :-)\\n')\n",
    "    else:\n",
    "        print(fcn.__name__, ' failed!  :-(\\n')\n",
    "        print('Expected ');print(expected_answer)\n",
    "        print('But, received ');print(answer)\n",
    "        \n",
    "def test_can_go_there():\n",
    "    puzzle_t1 ='#######\\n#@ $. #\\n#######'\n",
    "    wh = Warehouse()    \n",
    "    wh.extract_locations(puzzle_t1.split(sep='\\n'))\n",
    "    # first test\n",
    "    answer = can_go_there(wh,(1,2))\n",
    "    expected_answer = True\n",
    "    fcn = test_can_go_there\n",
    "    print('<<  First test of {} >>'.format(fcn.__name__))\n",
    "    if answer==expected_answer:\n",
    "        print(fcn.__name__, ' passed!  :-)\\n')\n",
    "    else:\n",
    "        print(fcn.__name__, ' failed!  :-(\\n')\n",
    "        print('Expected ');print(expected_answer)\n",
    "        print('But, received ');print(answer)\n",
    "    # second test\n",
    "    answer = can_go_there(wh,(1,5))\n",
    "    expected_answer = False\n",
    "    print('<<  Second test of {} >>'.format(fcn.__name__))\n",
    "    if answer==expected_answer:\n",
    "        print(fcn.__name__, ' passed!  :-)\\n')\n",
    "    else:\n",
    "        print(fcn.__name__, ' failed!  :-(\\n')\n",
    "        print('Expected ');print(expected_answer)\n",
    "        print('But, received ');print(answer)\n",
    "\n",
    "def test_solve_sokoban_macro():\n",
    "    puzzle_t2 ='#######\\n#@ $ .#\\n#######'\n",
    "    wh = Warehouse()    \n",
    "    wh.extract_locations(puzzle_t2.split(sep='\\n'))\n",
    "    # first test\n",
    "    answer=solve_sokoban_macro(wh)\n",
    "    expected_answer = [((1, 3), 'Right'), ((1, 4), 'Right')]\n",
    "    fcn = test_solve_sokoban_macro\n",
    "    print('<<  First test of {} >>'.format(fcn.__name__))\n",
    "    if answer==expected_answer:\n",
    "        print(fcn.__name__, ' passed!  :-)\\n')\n",
    "    else:\n",
    "        print(fcn.__name__, ' failed!  :-(\\n')\n",
    "        print('Expected ');print(expected_answer)\n",
    "        print('But, received ');print(answer)\n",
    "\n",
    "    \n",
    "print('############################## Sanity Check Output ##############################')\n",
    "\n",
    "print(my_team())  # should print your team\n",
    "test_taboo_cells() \n",
    "test_check_elem_action_seq()\n",
    "test_solve_sokoban_elem()\n",
    "test_can_go_there()\n",
    "test_solve_sokoban_macro()   \n",
    "\n",
    "print('#################################################################################')"
   ]
  },
  {
   "cell_type": "code",
   "execution_count": null,
   "id": "a783d771-d971-436f-b2e4-911da6948eb0",
   "metadata": {},
   "outputs": [],
   "source": []
  },
  {
   "cell_type": "code",
   "execution_count": null,
   "id": "406d935f",
   "metadata": {},
   "outputs": [],
   "source": []
  }
 ],
 "metadata": {
  "kernelspec": {
   "display_name": "base",
   "language": "python",
   "name": "python3"
  },
  "language_info": {
   "codemirror_mode": {
    "name": "ipython",
    "version": 3
   },
   "file_extension": ".py",
   "mimetype": "text/x-python",
   "name": "python",
   "nbconvert_exporter": "python",
   "pygments_lexer": "ipython3",
   "version": "3.8.3"
  }
 },
 "nbformat": 4,
 "nbformat_minor": 5
}
