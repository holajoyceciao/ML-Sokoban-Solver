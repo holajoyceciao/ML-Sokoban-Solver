{
 "cells": [
  {
   "cell_type": "code",
   "execution_count": 1,
   "id": "ed3eb8ab-7944-4573-83e5-2d18cf808d7f",
   "metadata": {},
   "outputs": [],
   "source": [
    "import glob\n",
    "import time\n",
    "from sokoban import Warehouse"
   ]
  },
  {
   "cell_type": "markdown",
   "id": "d46f54d6-4039-42d3-92d8-ac81c63ae53a",
   "metadata": {},
   "source": [
    "## This Testing File\n",
    "\n",
    "There are two sections to this testing file:\n",
    "1. Visualise results of functions on all the warehouses, including: the prediction, the time taken to produce the prediction.\n",
    "2. Test your functions perform correctly on warehouse 1. This is similar to the tests that Gradescope will run."
   ]
  },
  {
   "cell_type": "code",
   "execution_count": 2,
   "id": "471f3512-8f94-436d-8fee-d48614b92dbb",
   "metadata": {},
   "outputs": [],
   "source": [
    "#Import the mySokobanSolver.py file to import all functions\n",
    "from mySokobanSolver import *"
   ]
  },
  {
   "cell_type": "markdown",
   "id": "bc21c506-c52c-4eb5-ab5b-7e7d8b702264",
   "metadata": {},
   "source": [
    "## Visualise results"
   ]
  },
  {
   "cell_type": "code",
   "execution_count": 3,
   "id": "1c0dbba1-8b2a-4a84-b149-18752f77d3c1",
   "metadata": {},
   "outputs": [],
   "source": [
    "def test_warehouse(problem_file, macro = False):\n",
    "    '''\n",
    "    This function will test the performance of your warehouse for either macro or elem solutions and return the result.\n",
    "    You can check if this solution works with your gui, or by cleverly using the check_action_seq function.\n",
    "    '''\n",
    "\n",
    "    wh = Warehouse()\n",
    "    wh.load_warehouse(problem_file)\n",
    "\n",
    "    if macro:\n",
    "        student_answer =  solve_sokoban_macro(wh)\n",
    "    else:\n",
    "        student_answer = solve_sokoban_elem(wh)\n",
    "        \n",
    "    return student_answer\n",
    "#.............................................................\n"
   ]
  },
  {
   "cell_type": "code",
   "execution_count": 4,
   "id": "85ae80fa-255b-47f0-a239-5b289bbda338",
   "metadata": {},
   "outputs": [
    {
     "name": "stdout",
     "output_type": "stream",
     "text": [
      "####  \n",
      "# .#  \n",
      "#  ###\n",
      "#*@  #\n",
      "#  $ #\n",
      "#  ###\n",
      "####  \n",
      "Worker: @\n",
      "Worker on a target: !\n",
      "Craft box: $\n",
      "Empty Target: .\n",
      "box on target: *\n"
     ]
    }
   ],
   "source": [
    "all_warehouses = sorted(glob.glob('warehouses/*.txt'))\n",
    "first_warehouse = Warehouse()\n",
    "first_warehouse.load_warehouse(all_warehouses[0])\n",
    "print(first_warehouse)\n",
    "print(\"Worker: @\")  # workers on a free cell\n",
    "print(\"Worker on a target: !\")\n",
    "print(\"Craft box: $\") # crate/box\n",
    "print(\"Empty Target: .\") # empty target\n",
    "print(\"box on target: *\") # box on target"
   ]
  },
  {
   "cell_type": "code",
   "execution_count": 5,
   "id": "5c887d57-8ce4-4633-9233-ac83d729ab76",
   "metadata": {},
   "outputs": [
    {
     "name": "stdout",
     "output_type": "stream",
     "text": [
      "Warehouse boxes: [(3, 4), (1, 3)]\n",
      "Warehouse target: [(2, 1), (1, 3)]\n",
      "Warehouse worker: (2, 3)\n",
      "Warehouse walls: [(0, 0), (1, 0), (2, 0), (3, 0), (0, 1), (3, 1), (0, 2), (3, 2), (4, 2), (5, 2), (0, 3), (5, 3), (0, 4), (5, 4), (0, 5), (3, 5), (4, 5), (5, 5), (0, 6), (1, 6), (2, 6), (3, 6)]\n"
     ]
    }
   ],
   "source": [
    "print(\"Warehouse boxes:\", first_warehouse.boxes )\n",
    "print(\"Warehouse target:\", first_warehouse.targets)\n",
    "print(\"Warehouse worker:\", first_warehouse.worker)\n",
    "print(\"Warehouse walls:\", first_warehouse.walls)"
   ]
  },
  {
   "cell_type": "code",
   "execution_count": 6,
   "id": "07bb9218-f784-4e38-b477-4815c77eb5d5",
   "metadata": {},
   "outputs": [
    {
     "name": "stdout",
     "output_type": "stream",
     "text": [
      "####  \n",
      "# .#  \n",
      "#  ###\n",
      "#*@  #\n",
      "#  $ #\n",
      "#  ###\n",
      "####  \n",
      "((2, 3), ((3, 4), (1, 3)))\n",
      "actions: [((1, 0), 'm'), ((0, -1), 'm'), ((0, 1), 'm')]\n",
      "state after move at 0: ((3, 3), ((3, 4), (1, 3)))\n"
     ]
    }
   ],
   "source": [
    "print(first_warehouse)\n",
    "solver = SokobanPuzzle(first_warehouse)\n",
    "print(solver.initial)\n",
    "actions = solver.actions(solver.initial)\n",
    "print('actions:',actions)\n",
    "move_1 = solver.result(solver.initial, actions[0])\n",
    "print('state after move at 0:',move_1)"
   ]
  },
  {
   "cell_type": "markdown",
   "id": "c6c76f11-77fc-412d-8ed7-83718e29ece9",
   "metadata": {},
   "source": [
    "## Test the can_go_there function"
   ]
  },
  {
   "cell_type": "code",
   "execution_count": 7,
   "id": "c03fd7b3-142e-4bdd-bd17-43404af97253",
   "metadata": {},
   "outputs": [
    {
     "name": "stdout",
     "output_type": "stream",
     "text": [
      "[1, 1, 1, 1, 0, 0]\n",
      "[1, 0, 0, 1, 0, 0]\n",
      "[1, 0, 0, 1, 1, 1]\n",
      "[1, 1, 0, 0, 0, 1]\n",
      "[1, 0, 0, 1, 0, 1]\n",
      "[1, 0, 0, 1, 1, 1]\n",
      "[1, 1, 1, 1, 0, 0]\n",
      "Source: (3, 2), Target: (3, 3), Equal: False\n",
      "{(3, 2)}\n",
      "Source: (3, 3), Target: (3, 3), Equal: True\n"
     ]
    },
    {
     "data": {
      "text/plain": [
       "True"
      ]
     },
     "execution_count": 7,
     "metadata": {},
     "output_type": "execute_result"
    }
   ],
   "source": [
    "can_go_there(first_warehouse, tuple((0,1)))"
   ]
  },
  {
   "cell_type": "markdown",
   "id": "eeb1ef80-f1de-4bb5-913a-311b197fea36",
   "metadata": {},
   "source": [
    "## Develop the solver"
   ]
  },
  {
   "cell_type": "code",
   "execution_count": 8,
   "id": "4ef73e5b-af67-4fa1-9487-470a20df5462",
   "metadata": {},
   "outputs": [
    {
     "name": "stdout",
     "output_type": "stream",
     "text": [
      "<Node ((2, 2), ((1, 3), (2, 1)))>\n",
      "Solution takes 33 steps from the initial state to the goal state\n",
      "\n",
      "Below is the sequence of moves\n",
      "\n",
      "[\"((0, 1), 'm'), \", \"((-1, 0), 'm'), \", \"((0, -1), 'p'), \", \"((1, 0), 'm'), \", \"((1, 0), 'm'), \", \"((1, 0), 'm'), \", \"((0, 1), 'm'), \", \"((-1, 0), 'p'), \", \"((0, -1), 'm'), \", \"((-1, 0), 'm'), \", \"((-1, 0), 'm'), \", \"((0, 1), 'm'), \", \"((0, 1), 'm'), \", \"((1, 0), 'm'), \", \"((0, -1), 'p'), \", \"((-1, 0), 'm'), \", \"((0, -1), 'm'), \", \"((1, 0), 'p'), \", \"((0, -1), 'm'), \", \"((0, -1), 'm'), \", \"((-1, 0), 'm'), \", \"((0, 1), 'p'), \", \"((1, 0), 'm'), \", \"((0, 1), 'm'), \", \"((0, 1), 'm'), \", \"((1, 0), 'm'), \", \"((1, 0), 'm'), \", \"((0, -1), 'm'), \", \"((-1, 0), 'p'), \", \"((0, 1), 'm'), \", \"((-1, 0), 'm'), \", \"((0, -1), 'p'), \", \"((0, -1), 'p'), \"]\n"
     ]
    },
    {
     "data": {
      "text/plain": [
       "<Node ((2, 2), ((1, 3), (2, 1)))>"
      ]
     },
     "execution_count": 8,
     "metadata": {},
     "output_type": "execute_result"
    }
   ],
   "source": [
    "solve_sokoban_elem(first_warehouse)"
   ]
  },
  {
   "cell_type": "code",
   "execution_count": 9,
   "id": "f74133e1-78a9-46ad-8418-e48e05cf9231",
   "metadata": {},
   "outputs": [
    {
     "name": "stdout",
     "output_type": "stream",
     "text": [
      "Solver took 9.46 milli-seconds to find a solution.\n",
      "Solution takes 33 steps from the initial state to the goal state\n",
      "\n",
      "Below is the sequence of moves\n",
      "\n",
      "[\"((0, 1), 'm'), \", \"((-1, 0), 'm'), \", \"((0, -1), 'p'), \", \"((1, 0), 'm'), \", \"((1, 0), 'm'), \", \"((1, 0), 'm'), \", \"((0, 1), 'm'), \", \"((-1, 0), 'p'), \", \"((0, -1), 'm'), \", \"((-1, 0), 'm'), \", \"((-1, 0), 'm'), \", \"((0, 1), 'm'), \", \"((0, 1), 'm'), \", \"((1, 0), 'm'), \", \"((0, -1), 'p'), \", \"((-1, 0), 'm'), \", \"((0, -1), 'm'), \", \"((1, 0), 'p'), \", \"((0, -1), 'm'), \", \"((0, -1), 'm'), \", \"((-1, 0), 'm'), \", \"((0, 1), 'p'), \", \"((1, 0), 'm'), \", \"((0, 1), 'm'), \", \"((0, 1), 'm'), \", \"((1, 0), 'm'), \", \"((1, 0), 'm'), \", \"((0, -1), 'm'), \", \"((-1, 0), 'p'), \", \"((0, 1), 'm'), \", \"((-1, 0), 'm'), \", \"((0, -1), 'p'), \", \"((0, -1), 'p'), \"]\n"
     ]
    }
   ],
   "source": [
    "search_type = 'bfs'\n",
    "\n",
    "t0 = time.time()\n",
    "if search_type == 'bfs':\n",
    "    # Solve with Breadth First Search\n",
    "    sol_ts = search.breadth_first_graph_search(solver)\n",
    "else:\n",
    "    #Solve with Depth First Search\n",
    "    sol_ts = search.depth_first_graph_search(solver)\n",
    "t1 = time.time()\n",
    "\n",
    "print (f\"Solver took {1000*(t1-t0):.2f} milli-seconds to find a solution.\")\n",
    "solver.print_solution(sol_ts)"
   ]
  },
  {
   "cell_type": "code",
   "execution_count": 10,
   "id": "d9ecd8ce-d106-4a57-9aa8-dff41f21950c",
   "metadata": {},
   "outputs": [
    {
     "name": "stdout",
     "output_type": "stream",
     "text": [
      "Testing warehouses/warehouse_0001.txt\n",
      "<Node ((2, 2), ((1, 3), (2, 1)))>\n",
      "Solution takes 33 steps from the initial state to the goal state\n",
      "\n",
      "Below is the sequence of moves\n",
      "\n",
      "[\"((0, 1), 'm'), \", \"((-1, 0), 'm'), \", \"((0, -1), 'p'), \", \"((1, 0), 'm'), \", \"((1, 0), 'm'), \", \"((1, 0), 'm'), \", \"((0, 1), 'm'), \", \"((-1, 0), 'p'), \", \"((0, -1), 'm'), \", \"((-1, 0), 'm'), \", \"((-1, 0), 'm'), \", \"((0, 1), 'm'), \", \"((0, 1), 'm'), \", \"((1, 0), 'm'), \", \"((0, -1), 'p'), \", \"((-1, 0), 'm'), \", \"((0, -1), 'm'), \", \"((1, 0), 'p'), \", \"((0, -1), 'm'), \", \"((0, -1), 'm'), \", \"((-1, 0), 'm'), \", \"((0, 1), 'p'), \", \"((1, 0), 'm'), \", \"((0, 1), 'm'), \", \"((0, 1), 'm'), \", \"((1, 0), 'm'), \", \"((1, 0), 'm'), \", \"((0, -1), 'm'), \", \"((-1, 0), 'p'), \", \"((0, 1), 'm'), \", \"((-1, 0), 'm'), \", \"((0, -1), 'p'), \", \"((0, -1), 'p'), \"]\n",
      "Answer: <Node ((2, 2), ((1, 3), (2, 1)))>\n",
      "Time taken: 0.011 seconds\n",
      "Testing warehouses/warehouse_0003.txt\n",
      "<Node ((4, 3), ((2, 4), (4, 4)))>\n",
      "Solution takes 41 steps from the initial state to the goal state\n",
      "\n",
      "Below is the sequence of moves\n",
      "\n",
      "[\"((1, 0), 'm'), \", \"((0, -1), 'm'), \", \"((0, -1), 'm'), \", \"((-1, 0), 'p'), \", \"((-1, 0), 'p'), \", \"((-1, 0), 'p'), \", \"((0, -1), 'm'), \", \"((-1, 0), 'm'), \", \"((0, 1), 'p'), \", \"((1, 0), 'm'), \", \"((1, 0), 'm'), \", \"((1, 0), 'm'), \", \"((1, 0), 'm'), \", \"((0, 1), 'm'), \", \"((0, 1), 'm'), \", \"((-1, 0), 'm'), \", \"((0, -1), 'p'), \", \"((1, 0), 'm'), \", \"((0, -1), 'm'), \", \"((-1, 0), 'p'), \", \"((-1, 0), 'p'), \", \"((-1, 0), 'p'), \", \"((0, 1), 'm'), \", \"((0, 1), 'm'), \", \"((-1, 0), 'm'), \", \"((-1, 0), 'm'), \", \"((-1, 0), 'm'), \", \"((0, -1), 'm'), \", \"((0, -1), 'm'), \", \"((1, 0), 'm'), \", \"((1, 0), 'p'), \", \"((0, 1), 'p'), \", \"((1, 0), 'm'), \", \"((0, 1), 'm'), \", \"((-1, 0), 'p'), \", \"((0, -1), 'm'), \", \"((0, -1), 'm'), \", \"((0, -1), 'm'), \", \"((1, 0), 'm'), \", \"((0, 1), 'p'), \", \"((0, 1), 'p'), \"]\n",
      "Answer: <Node ((4, 3), ((2, 4), (4, 4)))>\n",
      "Time taken: 0.044 seconds\n",
      "Testing warehouses/warehouse_0005.txt\n"
     ]
    },
    {
     "ename": "KeyboardInterrupt",
     "evalue": "",
     "output_type": "error",
     "traceback": [
      "\u001b[0;31m---------------------------------------------------------------------------\u001b[0m",
      "\u001b[0;31mKeyboardInterrupt\u001b[0m                         Traceback (most recent call last)",
      "Cell \u001b[0;32mIn[10], line 4\u001b[0m\n\u001b[1;32m      2\u001b[0m \u001b[38;5;28mprint\u001b[39m(\u001b[38;5;124mf\u001b[39m\u001b[38;5;124m'\u001b[39m\u001b[38;5;124mTesting \u001b[39m\u001b[38;5;132;01m{\u001b[39;00mproblem_file\u001b[38;5;132;01m}\u001b[39;00m\u001b[38;5;124m'\u001b[39m)\n\u001b[1;32m      3\u001b[0m s \u001b[38;5;241m=\u001b[39m time\u001b[38;5;241m.\u001b[39mtime()\n\u001b[0;32m----> 4\u001b[0m a \u001b[38;5;241m=\u001b[39m \u001b[43mtest_warehouse\u001b[49m\u001b[43m(\u001b[49m\u001b[43mproblem_file\u001b[49m\u001b[43m)\u001b[49m\n\u001b[1;32m      5\u001b[0m \u001b[38;5;28mprint\u001b[39m(\u001b[38;5;124mf\u001b[39m\u001b[38;5;124m'\u001b[39m\u001b[38;5;124mAnswer: \u001b[39m\u001b[38;5;132;01m{\u001b[39;00ma\u001b[38;5;132;01m}\u001b[39;00m\u001b[38;5;124m'\u001b[39m)\n\u001b[1;32m      6\u001b[0m \u001b[38;5;28mprint\u001b[39m(\u001b[38;5;124mf\u001b[39m\u001b[38;5;124m'\u001b[39m\u001b[38;5;124mTime taken: \u001b[39m\u001b[38;5;132;01m{\u001b[39;00mtime\u001b[38;5;241m.\u001b[39mtime()\u001b[38;5;241m-\u001b[39ms\u001b[38;5;250m \u001b[39m\u001b[38;5;132;01m:\u001b[39;00m\u001b[38;5;124m.3f\u001b[39m\u001b[38;5;132;01m}\u001b[39;00m\u001b[38;5;124m seconds\u001b[39m\u001b[38;5;124m'\u001b[39m)              \n",
      "Cell \u001b[0;32mIn[3], line 13\u001b[0m, in \u001b[0;36mtest_warehouse\u001b[0;34m(problem_file, macro)\u001b[0m\n\u001b[1;32m     11\u001b[0m     student_answer \u001b[38;5;241m=\u001b[39m  solve_sokoban_macro(wh)\n\u001b[1;32m     12\u001b[0m \u001b[38;5;28;01melse\u001b[39;00m:\n\u001b[0;32m---> 13\u001b[0m     student_answer \u001b[38;5;241m=\u001b[39m \u001b[43msolve_sokoban_elem\u001b[49m\u001b[43m(\u001b[49m\u001b[43mwh\u001b[49m\u001b[43m)\u001b[49m\n\u001b[1;32m     15\u001b[0m \u001b[38;5;28;01mreturn\u001b[39;00m student_answer\n",
      "File \u001b[0;32m~/IFN680/Project_2/mySokobanSolver.py:239\u001b[0m, in \u001b[0;36msolve_sokoban_elem\u001b[0;34m(warehouse)\u001b[0m\n\u001b[1;32m    235\u001b[0m search_type \u001b[38;5;241m=\u001b[39m \u001b[38;5;124m'\u001b[39m\u001b[38;5;124mbfs\u001b[39m\u001b[38;5;124m'\u001b[39m\n\u001b[1;32m    237\u001b[0m \u001b[38;5;28;01mif\u001b[39;00m search_type \u001b[38;5;241m==\u001b[39m \u001b[38;5;124m'\u001b[39m\u001b[38;5;124mbfs\u001b[39m\u001b[38;5;124m'\u001b[39m:\n\u001b[1;32m    238\u001b[0m     \u001b[38;5;66;03m# Solve with Breadth First Search\u001b[39;00m\n\u001b[0;32m--> 239\u001b[0m     sol_ts \u001b[38;5;241m=\u001b[39m \u001b[43msearch\u001b[49m\u001b[38;5;241;43m.\u001b[39;49m\u001b[43mbreadth_first_graph_search\u001b[49m\u001b[43m(\u001b[49m\u001b[43msolver\u001b[49m\u001b[43m)\u001b[49m\n\u001b[1;32m    240\u001b[0m \u001b[38;5;28;01melse\u001b[39;00m:\n\u001b[1;32m    241\u001b[0m     \u001b[38;5;66;03m#Solve with Depth First Search\u001b[39;00m\n\u001b[1;32m    242\u001b[0m     sol_ts \u001b[38;5;241m=\u001b[39m search\u001b[38;5;241m.\u001b[39mdepth_first_graph_search(solver)\n",
      "File \u001b[0;32m~/IFN680/Project_2/search.py:321\u001b[0m, in \u001b[0;36mbreadth_first_graph_search\u001b[0;34m(problem)\u001b[0m\n\u001b[1;32m    319\u001b[0m \u001b[38;5;28;01mdef\u001b[39;00m \u001b[38;5;21mbreadth_first_graph_search\u001b[39m(problem):\n\u001b[1;32m    320\u001b[0m     \u001b[38;5;124m\"\u001b[39m\u001b[38;5;124mGraph search version of BFS.  [Fig. 3.11]\u001b[39m\u001b[38;5;124m\"\u001b[39m\n\u001b[0;32m--> 321\u001b[0m     \u001b[38;5;28;01mreturn\u001b[39;00m \u001b[43mgraph_search\u001b[49m\u001b[43m(\u001b[49m\u001b[43mproblem\u001b[49m\u001b[43m,\u001b[49m\u001b[43m \u001b[49m\u001b[43mFIFOQueue\u001b[49m\u001b[43m(\u001b[49m\u001b[43m)\u001b[49m\u001b[43m)\u001b[49m\n",
      "File \u001b[0;32m~/IFN680/Project_2/search.py:298\u001b[0m, in \u001b[0;36mgraph_search\u001b[0;34m(problem, frontier)\u001b[0m\n\u001b[1;32m    296\u001b[0m     explored\u001b[38;5;241m.\u001b[39madd(node\u001b[38;5;241m.\u001b[39mstate)\n\u001b[1;32m    297\u001b[0m     \u001b[38;5;66;03m# Python note: next line uses of a generator\u001b[39;00m\n\u001b[0;32m--> 298\u001b[0m     \u001b[43mfrontier\u001b[49m\u001b[38;5;241;43m.\u001b[39;49m\u001b[43mextend\u001b[49m\u001b[43m(\u001b[49m\u001b[43mchild\u001b[49m\u001b[43m \u001b[49m\u001b[38;5;28;43;01mfor\u001b[39;49;00m\u001b[43m \u001b[49m\u001b[43mchild\u001b[49m\u001b[43m \u001b[49m\u001b[38;5;129;43;01min\u001b[39;49;00m\u001b[43m \u001b[49m\u001b[43mnode\u001b[49m\u001b[38;5;241;43m.\u001b[39;49m\u001b[43mexpand\u001b[49m\u001b[43m(\u001b[49m\u001b[43mproblem\u001b[49m\u001b[43m)\u001b[49m\n\u001b[1;32m    299\u001b[0m \u001b[43m                    \u001b[49m\u001b[38;5;28;43;01mif\u001b[39;49;00m\u001b[43m \u001b[49m\u001b[43mchild\u001b[49m\u001b[38;5;241;43m.\u001b[39;49m\u001b[43mstate\u001b[49m\u001b[43m \u001b[49m\u001b[38;5;129;43;01mnot\u001b[39;49;00m\u001b[43m \u001b[49m\u001b[38;5;129;43;01min\u001b[39;49;00m\u001b[43m \u001b[49m\u001b[43mexplored\u001b[49m\n\u001b[1;32m    300\u001b[0m \u001b[43m                    \u001b[49m\u001b[38;5;129;43;01mand\u001b[39;49;00m\u001b[43m \u001b[49m\u001b[43mchild\u001b[49m\u001b[43m \u001b[49m\u001b[38;5;129;43;01mnot\u001b[39;49;00m\u001b[43m \u001b[49m\u001b[38;5;129;43;01min\u001b[39;49;00m\u001b[43m \u001b[49m\u001b[43mfrontier\u001b[49m\u001b[43m)\u001b[49m\n\u001b[1;32m    301\u001b[0m \u001b[38;5;28;01mreturn\u001b[39;00m \u001b[38;5;28;01mNone\u001b[39;00m\n",
      "File \u001b[0;32m~/IFN680/Project_2/search.py:300\u001b[0m, in \u001b[0;36m<genexpr>\u001b[0;34m(.0)\u001b[0m\n\u001b[1;32m    296\u001b[0m     explored\u001b[38;5;241m.\u001b[39madd(node\u001b[38;5;241m.\u001b[39mstate)\n\u001b[1;32m    297\u001b[0m     \u001b[38;5;66;03m# Python note: next line uses of a generator\u001b[39;00m\n\u001b[1;32m    298\u001b[0m     frontier\u001b[38;5;241m.\u001b[39mextend(child \u001b[38;5;28;01mfor\u001b[39;00m child \u001b[38;5;129;01min\u001b[39;00m node\u001b[38;5;241m.\u001b[39mexpand(problem)\n\u001b[1;32m    299\u001b[0m                     \u001b[38;5;28;01mif\u001b[39;00m child\u001b[38;5;241m.\u001b[39mstate \u001b[38;5;129;01mnot\u001b[39;00m \u001b[38;5;129;01min\u001b[39;00m explored\n\u001b[0;32m--> 300\u001b[0m                     \u001b[38;5;129;01mand\u001b[39;00m \u001b[43mchild\u001b[49m\u001b[43m \u001b[49m\u001b[38;5;129;43;01mnot\u001b[39;49;00m\u001b[43m \u001b[49m\u001b[38;5;129;43;01min\u001b[39;49;00m\u001b[43m \u001b[49m\u001b[43mfrontier\u001b[49m)\n\u001b[1;32m    301\u001b[0m \u001b[38;5;28;01mreturn\u001b[39;00m \u001b[38;5;28;01mNone\u001b[39;00m\n",
      "File \u001b[0;32m~/IFN680/Project_2/search.py:252\u001b[0m, in \u001b[0;36mNode.__eq__\u001b[0;34m(self, other)\u001b[0m\n\u001b[1;32m    246\u001b[0m     \u001b[38;5;28;01mreturn\u001b[39;00m \u001b[38;5;28mlist\u001b[39m(\u001b[38;5;28mreversed\u001b[39m(path_back))\n\u001b[1;32m    248\u001b[0m \u001b[38;5;66;03m# We want for a queue of nodes in breadth_first_search or\u001b[39;00m\n\u001b[1;32m    249\u001b[0m \u001b[38;5;66;03m# astar_search to have no duplicated states, so we treat nodes\u001b[39;00m\n\u001b[1;32m    250\u001b[0m \u001b[38;5;66;03m# with the same state as equal. [Problem: this may not be what you\u001b[39;00m\n\u001b[1;32m    251\u001b[0m \u001b[38;5;66;03m# want in other contexts.]\u001b[39;00m\n\u001b[0;32m--> 252\u001b[0m \u001b[38;5;28;01mdef\u001b[39;00m \u001b[38;5;21m__eq__\u001b[39m(\u001b[38;5;28mself\u001b[39m, other):\n\u001b[1;32m    253\u001b[0m     \u001b[38;5;28;01mreturn\u001b[39;00m \u001b[38;5;28misinstance\u001b[39m(other, Node) \u001b[38;5;129;01mand\u001b[39;00m \u001b[38;5;28mself\u001b[39m\u001b[38;5;241m.\u001b[39mstate \u001b[38;5;241m==\u001b[39m other\u001b[38;5;241m.\u001b[39mstate\n\u001b[1;32m    255\u001b[0m \u001b[38;5;28;01mdef\u001b[39;00m \u001b[38;5;21m__hash__\u001b[39m(\u001b[38;5;28mself\u001b[39m):\n",
      "\u001b[0;31mKeyboardInterrupt\u001b[0m: "
     ]
    }
   ],
   "source": [
    "\n",
    "for problem_file in all_warehouses:\n",
    "    print(f'Testing {problem_file}')\n",
    "    s = time.time()\n",
    "    a = test_warehouse(problem_file)\n",
    "    print(f'Answer: {a}')\n",
    "    print(f'Time taken: {time.time()-s :.3f} seconds')              "
   ]
  },
  {
   "cell_type": "markdown",
   "id": "e54a1258-d0ad-46e1-8601-a4fba099f15c",
   "metadata": {},
   "source": [
    "## Test function performance on warehouse 1 (similar to gradescope tests)"
   ]
  },
  {
   "cell_type": "code",
   "execution_count": null,
   "id": "d31871ea-5266-4b78-894d-2669e5d23792",
   "metadata": {},
   "outputs": [],
   "source": [
    "'''\n",
    "\n",
    "This script tests functions in your submission 'mySokobanSolver.py'\n",
    "\n",
    "A similar script (with different inputs) will be used for marking your code.\n",
    "\n",
    "Make sure that your code runs without errors with this script.\n",
    "\n",
    "\n",
    "'''\n",
    "\n",
    "def test_taboo_cells():\n",
    "    wh = Warehouse()\n",
    "    wh.load_warehouse(\"./warehouses/warehouse_0001.txt\")\n",
    "    expected_answer = '####  \\n#X #  \\n#  ###\\n#   X#\\n#   X#\\n#XX###\\n####  '\n",
    "    answer = taboo_cells(wh)\n",
    "    fcn = test_taboo_cells    \n",
    "    print('<<  Testing {} >>'.format(fcn.__name__))\n",
    "    if answer==expected_answer:\n",
    "        print(fcn.__name__, ' passed!  :-)\\n')\n",
    "    else:\n",
    "        print(fcn.__name__, ' failed!  :-(\\n')\n",
    "        print('Expected ');print(expected_answer)\n",
    "        print('But, received ');print(answer)\n",
    "        \n",
    "\n",
    "def test_check_elem_action_seq():\n",
    "    wh = Warehouse()\n",
    "    wh.load_warehouse(\"./warehouses/warehouse_0001.txt\")\n",
    "    # first test\n",
    "    answer = check_action_seq(wh, ['Right', 'Right','Down'])\n",
    "    expected_answer = '####  \\n# .#  \\n#  ###\\n#*   #\\n#  $@#\\n#  ###\\n####  '\n",
    "    fcn = test_check_elem_action_seq    \n",
    "    print('<<  First test of {} >>'.format(fcn.__name__))\n",
    "    if answer==expected_answer:\n",
    "        print(fcn.__name__, ' passed!  :-)\\n')\n",
    "    else:\n",
    "        print(fcn.__name__, ' failed!  :-(\\n')\n",
    "        print('Expected ');print(expected_answer)\n",
    "        print('But, received ');print(answer)\n",
    "    # second test\n",
    "    answer = check_action_seq(wh, ['Right', 'Right','Right'])\n",
    "    expected_answer = 'Failure'\n",
    "    fcn = test_check_elem_action_seq    \n",
    "    print('<<  Second test of {} >>'.format(fcn.__name__))\n",
    "    if answer==expected_answer:\n",
    "        print(fcn.__name__, ' passed!  :-)\\n')\n",
    "    else:\n",
    "        print(fcn.__name__, ' failed!  :-(\\n')\n",
    "        print('Expected ');print(expected_answer)\n",
    "        print('But, received ');print(answer)\n",
    "\n",
    "def test_solve_sokoban_elem():\n",
    "    puzzle_t1 ='#######\\n#@ $. #\\n#######'\n",
    "    wh = Warehouse()    \n",
    "    wh.extract_locations(puzzle_t1.split(sep='\\n'))\n",
    "    # first test\n",
    "    answer = solve_sokoban_elem(wh)\n",
    "    expected_answer = ['Right', 'Right']\n",
    "    fcn = test_solve_sokoban_elem\n",
    "    print('<<  First test of {} >>'.format(fcn.__name__))\n",
    "    if answer==expected_answer:\n",
    "        print(fcn.__name__, ' passed!  :-)\\n')\n",
    "    else:\n",
    "        print(fcn.__name__, ' failed!  :-(\\n')\n",
    "        print('Expected ');print(expected_answer)\n",
    "        print('But, received ');print(answer)\n",
    "    # second test\n",
    "    puzzle_t2 ='#######\\n#@ $ #.#\\n#######'\n",
    "    wh = Warehouse()    \n",
    "    wh.extract_locations(puzzle_t2.split(sep='\\n'))\n",
    "    # second test\n",
    "    answer = solve_sokoban_elem(wh)\n",
    "    expected_answer = 'Impossible'\n",
    "    print('<<  Second test of {} >>'.format(fcn.__name__))\n",
    "    if answer==expected_answer:\n",
    "        print(fcn.__name__, ' passed!  :-)\\n')\n",
    "    else:\n",
    "        print(fcn.__name__, ' failed!  :-(\\n')\n",
    "        print('Expected ');print(expected_answer)\n",
    "        print('But, received ');print(answer)\n",
    "        \n",
    "def test_can_go_there():\n",
    "    puzzle_t1 ='#######\\n#@ $. #\\n#######'\n",
    "    wh = Warehouse()    \n",
    "    wh.extract_locations(puzzle_t1.split(sep='\\n'))\n",
    "    # first test\n",
    "    answer = can_go_there(wh,(1,2))\n",
    "    expected_answer = True\n",
    "    fcn = test_can_go_there\n",
    "    print('<<  First test of {} >>'.format(fcn.__name__))\n",
    "    if answer==expected_answer:\n",
    "        print(fcn.__name__, ' passed!  :-)\\n')\n",
    "    else:\n",
    "        print(fcn.__name__, ' failed!  :-(\\n')\n",
    "        print('Expected ');print(expected_answer)\n",
    "        print('But, received ');print(answer)\n",
    "    # second test\n",
    "    answer = can_go_there(wh,(1,5))\n",
    "    expected_answer = False\n",
    "    print('<<  Second test of {} >>'.format(fcn.__name__))\n",
    "    if answer==expected_answer:\n",
    "        print(fcn.__name__, ' passed!  :-)\\n')\n",
    "    else:\n",
    "        print(fcn.__name__, ' failed!  :-(\\n')\n",
    "        print('Expected ');print(expected_answer)\n",
    "        print('But, received ');print(answer)\n",
    "\n",
    "def test_solve_sokoban_macro():\n",
    "    puzzle_t2 ='#######\\n#@ $ .#\\n#######'\n",
    "    wh = Warehouse()    \n",
    "    wh.extract_locations(puzzle_t2.split(sep='\\n'))\n",
    "    # first test\n",
    "    answer=solve_sokoban_macro(wh)\n",
    "    expected_answer = [((1, 3), 'Right'), ((1, 4), 'Right')]\n",
    "    fcn = test_solve_sokoban_macro\n",
    "    print('<<  First test of {} >>'.format(fcn.__name__))\n",
    "    if answer==expected_answer:\n",
    "        print(fcn.__name__, ' passed!  :-)\\n')\n",
    "    else:\n",
    "        print(fcn.__name__, ' failed!  :-(\\n')\n",
    "        print('Expected ');print(expected_answer)\n",
    "        print('But, received ');print(answer)\n",
    "\n",
    "    \n",
    "print('############################## Sanity Check Output ##############################')\n",
    "\n",
    "print(my_team())  # should print your team\n",
    "test_taboo_cells() \n",
    "test_check_elem_action_seq()\n",
    "test_solve_sokoban_elem()\n",
    "test_can_go_there()\n",
    "test_solve_sokoban_macro()   \n",
    "\n",
    "print('#################################################################################')"
   ]
  },
  {
   "cell_type": "code",
   "execution_count": null,
   "id": "a783d771-d971-436f-b2e4-911da6948eb0",
   "metadata": {},
   "outputs": [],
   "source": []
  }
 ],
 "metadata": {
  "kernelspec": {
   "display_name": "Python 3 (ipykernel)",
   "language": "python",
   "name": "python3"
  },
  "language_info": {
   "codemirror_mode": {
    "name": "ipython",
    "version": 3
   },
   "file_extension": ".py",
   "mimetype": "text/x-python",
   "name": "python",
   "nbconvert_exporter": "python",
   "pygments_lexer": "ipython3",
   "version": "3.11.9"
  }
 },
 "nbformat": 4,
 "nbformat_minor": 5
}
